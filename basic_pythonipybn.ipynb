{
 "cells": [
  {
   "cell_type": "markdown",
   "id": "25a94164",
   "metadata": {},
   "source": [
    "### My First Program"
   ]
  },
  {
   "cell_type": "code",
   "execution_count": 1,
   "id": "73bd05d1",
   "metadata": {},
   "outputs": [
    {
     "name": "stdout",
     "output_type": "stream",
     "text": [
      "hello world!\n"
     ]
    }
   ],
   "source": [
    "print(\"hello world!\")"
   ]
  },
  {
   "cell_type": "code",
   "execution_count": 3,
   "id": "851db119",
   "metadata": {},
   "outputs": [
    {
     "name": "stdout",
     "output_type": "stream",
     "text": [
      "ananya\n"
     ]
    }
   ],
   "source": [
    "print(\"ananya\")"
   ]
  },
  {
   "cell_type": "code",
   "execution_count": 5,
   "id": "07e41cf4",
   "metadata": {},
   "outputs": [],
   "source": [
    "name=\"ananya\"\n",
    "age=21\n",
    "income=21000"
   ]
  },
  {
   "cell_type": "code",
   "execution_count": 6,
   "id": "685be9a4",
   "metadata": {},
   "outputs": [
    {
     "name": "stdout",
     "output_type": "stream",
     "text": [
      "name\n",
      "age\n",
      "income\n"
     ]
    }
   ],
   "source": [
    "print(\"name\")\n",
    "print(\"age\")\n",
    "print(\"income\")"
   ]
  },
  {
   "cell_type": "code",
   "execution_count": 9,
   "id": "ca5119ef",
   "metadata": {},
   "outputs": [
    {
     "data": {
      "text/plain": [
       "('ananya', 'rupl')"
      ]
     },
     "execution_count": 9,
     "metadata": {},
     "output_type": "execute_result"
    }
   ],
   "source": [
    "namelist=\"ananya\",\"rupl\"\n",
    "namelist"
   ]
  },
  {
   "cell_type": "code",
   "execution_count": 10,
   "id": "348e22f5",
   "metadata": {},
   "outputs": [
    {
     "data": {
      "text/plain": [
       "('ananya', 'rupl')"
      ]
     },
     "execution_count": 10,
     "metadata": {},
     "output_type": "execute_result"
    }
   ],
   "source": [
    "n2amelist=\"ananya\",\"rupl\"\n",
    "n2amelist"
   ]
  },
  {
   "cell_type": "code",
   "execution_count": 11,
   "id": "9d3c3460",
   "metadata": {},
   "outputs": [
    {
     "data": {
      "text/plain": [
       "('ananya', 'rupl')"
      ]
     },
     "execution_count": 11,
     "metadata": {},
     "output_type": "execute_result"
    }
   ],
   "source": [
    "name_list=\"ananya\",\"rupl\"\n",
    "name_list"
   ]
  },
  {
   "cell_type": "markdown",
   "id": "5c916d93",
   "metadata": {},
   "source": [
    "### Datatype"
   ]
  },
  {
   "cell_type": "code",
   "execution_count": 13,
   "id": "5909050a",
   "metadata": {},
   "outputs": [
    {
     "data": {
      "text/plain": [
       "str"
      ]
     },
     "execution_count": 13,
     "metadata": {},
     "output_type": "execute_result"
    }
   ],
   "source": [
    "type(\"ai\")"
   ]
  },
  {
   "cell_type": "code",
   "execution_count": 14,
   "id": "e0e16f07",
   "metadata": {},
   "outputs": [
    {
     "data": {
      "text/plain": [
       "str"
      ]
     },
     "execution_count": 14,
     "metadata": {},
     "output_type": "execute_result"
    }
   ],
   "source": [
    "name=\"ai\"\n",
    "type(name)"
   ]
  },
  {
   "cell_type": "code",
   "execution_count": 15,
   "id": "0965f11c",
   "metadata": {},
   "outputs": [
    {
     "data": {
      "text/plain": [
       "int"
      ]
     },
     "execution_count": 15,
     "metadata": {},
     "output_type": "execute_result"
    }
   ],
   "source": [
    "x=13\n",
    "type(x)"
   ]
  },
  {
   "cell_type": "code",
   "execution_count": 16,
   "id": "8767c9e0",
   "metadata": {},
   "outputs": [
    {
     "data": {
      "text/plain": [
       "float"
      ]
     },
     "execution_count": 16,
     "metadata": {},
     "output_type": "execute_result"
    }
   ],
   "source": [
    "x=25.5\n",
    "type(x)"
   ]
  },
  {
   "cell_type": "code",
   "execution_count": 18,
   "id": "c1226e83",
   "metadata": {},
   "outputs": [
    {
     "data": {
      "text/plain": [
       "bool"
      ]
     },
     "execution_count": 18,
     "metadata": {},
     "output_type": "execute_result"
    }
   ],
   "source": [
    "x=True\n",
    "type(x)"
   ]
  },
  {
   "cell_type": "code",
   "execution_count": 19,
   "id": "498d2b7a",
   "metadata": {},
   "outputs": [
    {
     "data": {
      "text/plain": [
       "bool"
      ]
     },
     "execution_count": 19,
     "metadata": {},
     "output_type": "execute_result"
    }
   ],
   "source": [
    "y=False\n",
    "type(y)"
   ]
  },
  {
   "cell_type": "code",
   "execution_count": 20,
   "id": "c3658f62",
   "metadata": {},
   "outputs": [
    {
     "data": {
      "text/plain": [
       "str"
      ]
     },
     "execution_count": 20,
     "metadata": {},
     "output_type": "execute_result"
    }
   ],
   "source": [
    "x=\"true\"\n",
    "type(x)"
   ]
  },
  {
   "cell_type": "code",
   "execution_count": 21,
   "id": "ca9f2646",
   "metadata": {},
   "outputs": [
    {
     "data": {
      "text/plain": [
       "str"
      ]
     },
     "execution_count": 21,
     "metadata": {},
     "output_type": "execute_result"
    }
   ],
   "source": [
    "y='true'\n",
    "type(y)"
   ]
  },
  {
   "cell_type": "markdown",
   "id": "a8ee93d8",
   "metadata": {},
   "source": [
    "### list\n",
    "### list are separated by comma and enclosed in square bracket\n",
    "### list is heterogenous--> multiple datatype\n",
    "### list can have duplicates\n",
    "### list is mutable"
   ]
  },
  {
   "cell_type": "code",
   "execution_count": 23,
   "id": "ebe39ee0",
   "metadata": {},
   "outputs": [
    {
     "data": {
      "text/plain": [
       "[1, 2, 7, 3, 9, 4, 'anny', 5, 4]"
      ]
     },
     "execution_count": 23,
     "metadata": {},
     "output_type": "execute_result"
    }
   ],
   "source": [
    "sample_list=[1,2,7,3,9,4,\"anny\",5,4]\n",
    "sample_list"
   ]
  },
  {
   "cell_type": "code",
   "execution_count": 24,
   "id": "159689c0",
   "metadata": {},
   "outputs": [
    {
     "data": {
      "text/plain": [
       "list"
      ]
     },
     "execution_count": 24,
     "metadata": {},
     "output_type": "execute_result"
    }
   ],
   "source": [
    "type(sample_list)"
   ]
  },
  {
   "cell_type": "code",
   "execution_count": 25,
   "id": "761541f5",
   "metadata": {},
   "outputs": [
    {
     "data": {
      "text/plain": [
       "9"
      ]
     },
     "execution_count": 25,
     "metadata": {},
     "output_type": "execute_result"
    }
   ],
   "source": [
    "sample_list[4]"
   ]
  },
  {
   "cell_type": "code",
   "execution_count": 28,
   "id": "5080174f",
   "metadata": {},
   "outputs": [
    {
     "data": {
      "text/plain": [
       "'anny'"
      ]
     },
     "execution_count": 28,
     "metadata": {},
     "output_type": "execute_result"
    }
   ],
   "source": [
    "sample_list[6]"
   ]
  },
  {
   "cell_type": "code",
   "execution_count": 29,
   "id": "b843045d",
   "metadata": {},
   "outputs": [
    {
     "data": {
      "text/plain": [
       "'anny'"
      ]
     },
     "execution_count": 29,
     "metadata": {},
     "output_type": "execute_result"
    }
   ],
   "source": [
    "sample_list[-3]"
   ]
  },
  {
   "cell_type": "code",
   "execution_count": 31,
   "id": "370043c9",
   "metadata": {},
   "outputs": [
    {
     "data": {
      "text/plain": [
       "[1, 2, 7, 3, 9, 4, 'ananya', 5, 4]"
      ]
     },
     "execution_count": 31,
     "metadata": {},
     "output_type": "execute_result"
    }
   ],
   "source": [
    "sample_list[6]=\"ananya\"\n",
    "sample_list"
   ]
  },
  {
   "cell_type": "markdown",
   "id": "f3877c7f",
   "metadata": {},
   "source": [
    "### Tuple\n",
    "### heterogenous--> allows multiple datatype\n",
    "### can we have duplicates\n",
    "### immutable--> can not make changes\n",
    "### elements are seperated bt comma,enclosed in paranthesis or without any brackets"
   ]
  },
  {
   "cell_type": "code",
   "execution_count": 34,
   "id": "b82516a7",
   "metadata": {},
   "outputs": [
    {
     "data": {
      "text/plain": [
       "(2, 3, 4, 5, 1, 2.3, 'hi', 8, 9)"
      ]
     },
     "execution_count": 34,
     "metadata": {},
     "output_type": "execute_result"
    }
   ],
   "source": [
    "ananya=(2,3,4,5,1,2.3,'hi',8,9)\n",
    "ananya"
   ]
  },
  {
   "cell_type": "code",
   "execution_count": 35,
   "id": "8e1468dc",
   "metadata": {},
   "outputs": [
    {
     "data": {
      "text/plain": [
       "tuple"
      ]
     },
     "execution_count": 35,
     "metadata": {},
     "output_type": "execute_result"
    }
   ],
   "source": [
    "type(ananya)"
   ]
  },
  {
   "cell_type": "code",
   "execution_count": 37,
   "id": "627cfbac",
   "metadata": {},
   "outputs": [
    {
     "data": {
      "text/plain": [
       "(2, 3, 4, 5, 1, 2.3, 'hi', 8, 9)"
      ]
     },
     "execution_count": 37,
     "metadata": {},
     "output_type": "execute_result"
    }
   ],
   "source": [
    "ananya2=2,3,4,5,1,2.3,'hi',8,9\n",
    "ananya2"
   ]
  },
  {
   "cell_type": "code",
   "execution_count": 38,
   "id": "dedd9bc6",
   "metadata": {},
   "outputs": [
    {
     "data": {
      "text/plain": [
       "tuple"
      ]
     },
     "execution_count": 38,
     "metadata": {},
     "output_type": "execute_result"
    }
   ],
   "source": [
    "type(ananya2)"
   ]
  },
  {
   "cell_type": "code",
   "execution_count": 41,
   "id": "5144e35b",
   "metadata": {},
   "outputs": [
    {
     "name": "stdout",
     "output_type": "stream",
     "text": [
      "[5]\n",
      "(2, 3, 4, 5, 1, 2.3, 'hi', 8, 9)\n"
     ]
    }
   ],
   "source": [
    "print(ananya)\n",
    "print(ananya2)"
   ]
  },
  {
   "cell_type": "code",
   "execution_count": 43,
   "id": "77053a51",
   "metadata": {},
   "outputs": [
    {
     "data": {
      "text/plain": [
       "'hi'"
      ]
     },
     "execution_count": 43,
     "metadata": {},
     "output_type": "execute_result"
    }
   ],
   "source": [
    "ananya2[6]"
   ]
  },
  {
   "cell_type": "markdown",
   "id": "889d930e",
   "metadata": {},
   "source": [
    "### Set"
   ]
  },
  {
   "cell_type": "code",
   "execution_count": 1,
   "id": "1b02b967",
   "metadata": {},
   "outputs": [],
   "source": [
    "sample_set={1,3,2,4,6,5,9,'hi','anny','yash',8,7}"
   ]
  },
  {
   "cell_type": "code",
   "execution_count": 2,
   "id": "17acb518",
   "metadata": {},
   "outputs": [
    {
     "data": {
      "text/plain": [
       "{1, 2, 3, 4, 5, 6, 7, 8, 9, 'anny', 'hi', 'yash'}"
      ]
     },
     "execution_count": 2,
     "metadata": {},
     "output_type": "execute_result"
    }
   ],
   "source": [
    "sample_set"
   ]
  },
  {
   "cell_type": "code",
   "execution_count": 3,
   "id": "b1369dfe",
   "metadata": {},
   "outputs": [
    {
     "ename": "TypeError",
     "evalue": "'set' object is not subscriptable",
     "output_type": "error",
     "traceback": [
      "\u001b[1;31m---------------------------------------------------------------------------\u001b[0m",
      "\u001b[1;31mTypeError\u001b[0m                                 Traceback (most recent call last)",
      "Cell \u001b[1;32mIn[3], line 1\u001b[0m\n\u001b[1;32m----> 1\u001b[0m sample_set[\u001b[38;5;241m100\u001b[39m]\n",
      "\u001b[1;31mTypeError\u001b[0m: 'set' object is not subscriptable"
     ]
    }
   ],
   "source": [
    "sample_set[100]"
   ]
  },
  {
   "cell_type": "code",
   "execution_count": 4,
   "id": "fee34203",
   "metadata": {},
   "outputs": [
    {
     "ename": "TypeError",
     "evalue": "'set' object does not support item assignment",
     "output_type": "error",
     "traceback": [
      "\u001b[1;31m---------------------------------------------------------------------------\u001b[0m",
      "\u001b[1;31mTypeError\u001b[0m                                 Traceback (most recent call last)",
      "Cell \u001b[1;32mIn[4], line 1\u001b[0m\n\u001b[1;32m----> 1\u001b[0m sample_set[\u001b[38;5;241m0\u001b[39m]\u001b[38;5;241m=\u001b[39m\u001b[38;5;241m12\u001b[39m\n",
      "\u001b[1;31mTypeError\u001b[0m: 'set' object does not support item assignment"
     ]
    }
   ],
   "source": [
    "sample_set[0]=12"
   ]
  },
  {
   "cell_type": "code",
   "execution_count": 6,
   "id": "e325d02f",
   "metadata": {},
   "outputs": [],
   "source": [
    "sample_set.add(13)"
   ]
  },
  {
   "cell_type": "code",
   "execution_count": 7,
   "id": "7180d3d5",
   "metadata": {},
   "outputs": [
    {
     "data": {
      "text/plain": [
       "{1, 13, 2, 3, 4, 5, 6, 7, 8, 9, 'anny', 'hi', 'yash'}"
      ]
     },
     "execution_count": 7,
     "metadata": {},
     "output_type": "execute_result"
    }
   ],
   "source": [
    "sample_set\n"
   ]
  },
  {
   "cell_type": "code",
   "execution_count": 9,
   "id": "11bcc288",
   "metadata": {},
   "outputs": [],
   "source": [
    "sample_set.remove(9)"
   ]
  },
  {
   "cell_type": "code",
   "execution_count": 10,
   "id": "57e19522",
   "metadata": {},
   "outputs": [
    {
     "data": {
      "text/plain": [
       "{1, 13, 2, 3, 4, 5, 6, 7, 8, 'anny', 'hi', 'yash'}"
      ]
     },
     "execution_count": 10,
     "metadata": {},
     "output_type": "execute_result"
    }
   ],
   "source": [
    "sample_set"
   ]
  },
  {
   "cell_type": "markdown",
   "id": "1af3c217",
   "metadata": {},
   "source": [
    "### set does not allow duplicates\n",
    "### we can not retrieve the set using index\n",
    "### set is mutable\n",
    "### set has{}\n",
    "### ordered -First place"
   ]
  },
  {
   "cell_type": "markdown",
   "id": "da8ebea7",
   "metadata": {},
   "source": [
    "### Dictionary\n",
    "### 1key-value pair\n",
    "### 2{}\n",
    "### 3Indexing square bracket\n",
    "### 4mutable"
   ]
  },
  {
   "cell_type": "code",
   "execution_count": 11,
   "id": "5859fc39",
   "metadata": {},
   "outputs": [],
   "source": [
    "dict_1={'name':\"ananya\",\"hobbies\":[\"dancing\",\"singing\",\"reading horror stroy\"],'age':21}"
   ]
  },
  {
   "cell_type": "code",
   "execution_count": 12,
   "id": "de836225",
   "metadata": {},
   "outputs": [
    {
     "data": {
      "text/plain": [
       "{'name': 'ananya',\n",
       " 'hobbies': ['dancing', 'singing', 'reading horror stroy'],\n",
       " 'age': 21}"
      ]
     },
     "execution_count": 12,
     "metadata": {},
     "output_type": "execute_result"
    }
   ],
   "source": [
    "dict_1"
   ]
  },
  {
   "cell_type": "code",
   "execution_count": 13,
   "id": "d7753105",
   "metadata": {},
   "outputs": [
    {
     "data": {
      "text/plain": [
       "dict_keys(['name', 'hobbies', 'age'])"
      ]
     },
     "execution_count": 13,
     "metadata": {},
     "output_type": "execute_result"
    }
   ],
   "source": [
    "dict_1.keys()"
   ]
  },
  {
   "cell_type": "code",
   "execution_count": 14,
   "id": "32375127",
   "metadata": {},
   "outputs": [
    {
     "data": {
      "text/plain": [
       "dict_values(['ananya', ['dancing', 'singing', 'reading horror stroy'], 21])"
      ]
     },
     "execution_count": 14,
     "metadata": {},
     "output_type": "execute_result"
    }
   ],
   "source": [
    "dict_1.values()"
   ]
  },
  {
   "cell_type": "code",
   "execution_count": 15,
   "id": "2b3ed38a",
   "metadata": {},
   "outputs": [],
   "source": [
    "dict_1['name']=\"rupali\""
   ]
  },
  {
   "cell_type": "code",
   "execution_count": 16,
   "id": "57153dca",
   "metadata": {},
   "outputs": [
    {
     "data": {
      "text/plain": [
       "{'name': 'rupali',\n",
       " 'hobbies': ['dancing', 'singing', 'reading horror stroy'],\n",
       " 'age': 21}"
      ]
     },
     "execution_count": 16,
     "metadata": {},
     "output_type": "execute_result"
    }
   ],
   "source": [
    "dict_1"
   ]
  },
  {
   "cell_type": "code",
   "execution_count": 17,
   "id": "6c3f0295",
   "metadata": {},
   "outputs": [],
   "source": [
    "del dict_1['name']"
   ]
  },
  {
   "cell_type": "code",
   "execution_count": 18,
   "id": "02106c25",
   "metadata": {},
   "outputs": [
    {
     "data": {
      "text/plain": [
       "{'hobbies': ['dancing', 'singing', 'reading horror stroy'], 'age': 21}"
      ]
     },
     "execution_count": 18,
     "metadata": {},
     "output_type": "execute_result"
    }
   ],
   "source": [
    "dict_1"
   ]
  },
  {
   "cell_type": "code",
   "execution_count": 19,
   "id": "46bf7683",
   "metadata": {},
   "outputs": [],
   "source": [
    "### add a new key"
   ]
  },
  {
   "cell_type": "code",
   "execution_count": 21,
   "id": "a58c6986",
   "metadata": {},
   "outputs": [],
   "source": [
    "dict_1.update({\"sex\":\"female\"})"
   ]
  },
  {
   "cell_type": "code",
   "execution_count": 22,
   "id": "3b5d9efa",
   "metadata": {},
   "outputs": [
    {
     "data": {
      "text/plain": [
       "{'hobbies': ['dancing', 'singing', 'reading horror stroy'],\n",
       " 'age': 21,\n",
       " 'sex': 'female'}"
      ]
     },
     "execution_count": 22,
     "metadata": {},
     "output_type": "execute_result"
    }
   ],
   "source": [
    "dict_1"
   ]
  },
  {
   "cell_type": "code",
   "execution_count": 24,
   "id": "3230092b",
   "metadata": {},
   "outputs": [
    {
     "data": {
      "text/plain": [
       "3"
      ]
     },
     "execution_count": 24,
     "metadata": {},
     "output_type": "execute_result"
    }
   ],
   "source": [
    "len(dict_1)"
   ]
  },
  {
   "cell_type": "code",
   "execution_count": null,
   "id": "5b5529de",
   "metadata": {},
   "outputs": [],
   "source": []
  }
 ],
 "metadata": {
  "kernelspec": {
   "display_name": "Python 3 (ipykernel)",
   "language": "python",
   "name": "python3"
  },
  "language_info": {
   "codemirror_mode": {
    "name": "ipython",
    "version": 3
   },
   "file_extension": ".py",
   "mimetype": "text/x-python",
   "name": "python",
   "nbconvert_exporter": "python",
   "pygments_lexer": "ipython3",
   "version": "3.11.5"
  }
 },
 "nbformat": 4,
 "nbformat_minor": 5
}
